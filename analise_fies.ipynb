{
 "cells": [
  {
   "cell_type": "code",
   "execution_count": 1,
   "metadata": {},
   "outputs": [],
   "source": [
    "import pandas as pd\n",
    "import os\n",
    "from tqdm import tqdm"
   ]
  },
  {
   "cell_type": "markdown",
   "metadata": {},
   "source": [
    "VL_REPASSE = valor total do financiamento repassado à mantenedora\n",
    "NU_PERCENT_SOLICITADO_FINANC = percentual de financiamento solicitado pelo estudante\n",
    "CO_IES = código da IES\n",
    "NO_IES = nome da IES\n",
    "NU_ANO = ano de referencia do contrato\n",
    "NU_MES = mes de referencia do contrato\n",
    "NU_SEMESTRE = semestre de referencia do contrato\n",
    "DS_RACA_COR = raça/cor do estudante\n",
    "DS_CURSO = descrição do curso\n",
    "SG_SEXO = sexo do estudante"
   ]
  },
  {
   "cell_type": "code",
   "execution_count": 8,
   "metadata": {},
   "outputs": [
    {
     "name": "stderr",
     "output_type": "stream",
     "text": [
      " 75%|███████▌  | 6/8 [05:33<02:29, 74.79s/it]C:\\Users\\caca_\\AppData\\Local\\Temp\\ipykernel_11108\\3619938073.py:7: DtypeWarning: Columns (7,20,25,26,27,29,30,32,33,34,38,40,46,48,50) have mixed types. Specify dtype option on import or set low_memory=False.\n",
      "  df = pd.read_csv(\n",
      "100%|██████████| 8/8 [07:03<00:00, 52.98s/it]\n"
     ]
    }
   ],
   "source": [
    "folder = \"./data/fies/\"\n",
    "files = os.listdir(folder)\n",
    "\n",
    "df_final = pd.DataFrame()\n",
    "\n",
    "for filename in tqdm(files):\n",
    "    df = pd.read_csv(\n",
    "        f\"{folder}/{filename}\",\n",
    "        sep=\";\",\n",
    "        encoding=\"latin1\",\n",
    "        decimal=\",\",\n",
    "    )\n",
    "\n",
    "    df_g = (\n",
    "        df.groupby(\n",
    "            [\n",
    "                \"CO_MANTENEDORA\",\n",
    "                \"NU_CNPJ_MANTENEDORA\",\n",
    "                \"NO_RAZAO_SOCIAL_MANTENEDORA\",\n",
    "                \"CO_IES\",\n",
    "                \"NO_IES\",\n",
    "                \"NU_ANO\",\n",
    "            ]\n",
    "        )\n",
    "        .agg({\"VL_REPASSE\": \"sum\", \"CO_CONTRATO_FIES\": \"count\"})\n",
    "        .sort_values(\"VL_REPASSE\", ascending=False)\n",
    "        .reset_index()\n",
    "        .rename(\n",
    "            {\"VL_REPASSE\": \"tot_repasse\", \"CO_CONTRATO_FIES\": \"tot_alunos\"},\n",
    "            axis=1,\n",
    "        )\n",
    "    )\n",
    "\n",
    "    df_final = pd.concat([df_final, df_g])\n",
    "\n",
    "# por alguma razão o agrupamento repete valores, acredido que haja de dados de anos diferentes nos arquivos...\n",
    "df_final = (\n",
    "    df_final.groupby(\n",
    "        [\n",
    "            \"CO_MANTENEDORA\",\n",
    "            \"NU_CNPJ_MANTENEDORA\",\n",
    "            \"NO_RAZAO_SOCIAL_MANTENEDORA\",\n",
    "            \"CO_IES\",\n",
    "            \"NO_IES\",\n",
    "            \"NU_ANO\",\n",
    "        ]\n",
    "    )\n",
    "    .agg({\"tot_repasse\": \"sum\", \"tot_alunos\": \"sum\"})\n",
    "    .sort_values(\"tot_repasse\", ascending=False)\n",
    "    .reset_index()\n",
    ")"
   ]
  },
  {
   "cell_type": "code",
   "execution_count": 10,
   "metadata": {},
   "outputs": [
    {
     "data": {
      "text/plain": [
       "<Axes: xlabel='NU_ANO'>"
      ]
     },
     "execution_count": 10,
     "metadata": {},
     "output_type": "execute_result"
    },
    {
     "data": {
      "image/png": "[encoded data removed]",
      "text/plain": [
       "<Figure size 640x480 with 1 Axes>"
      ]
     },
     "metadata": {},
     "output_type": "display_data"
    }
   ],
   "source": [
    "df_final.groupby('NU_ANO').sum(numeric_only=True)['tot_repasse'].plot()"
   ]
  },
  {
   "cell_type": "code",
   "execution_count": 7,
   "metadata": {},
   "outputs": [],
   "source": [
    "df_final.to_excel('dados_fies_por_IES.xlsx', index=False)"
   ]
  }
 ],
 "metadata": {
  "kernelspec": {
   "display_name": "Python 3",
   "language": "python",
   "name": "python3"
  },
  "language_info": {
   "codemirror_mode": {
    "name": "ipython",
    "version": 3
   },
   "file_extension": ".py",
   "mimetype": "text/x-python",
   "name": "python",
   "nbconvert_exporter": "python",
   "pygments_lexer": "ipython3",
   "version": "3.12.0"
  }
 },
 "nbformat": 4,
 "nbformat_minor": 2
}
